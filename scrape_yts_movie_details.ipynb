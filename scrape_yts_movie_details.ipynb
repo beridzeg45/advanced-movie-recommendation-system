{
 "cells": [
  {
   "cell_type": "code",
   "execution_count": 1,
   "metadata": {},
   "outputs": [],
   "source": [
    "import requests\n",
    "from bs4 import BeautifulSoup\n",
    "import time\n",
    "import os\n",
    "import pickle\n",
    "\n",
    "headers = {'User-Agent': 'Mozilla/5.0 (Windows NT 10.0; Win64; x64) AppleWebKit/537.36 (KHTML, like Gecko) Chrome/58.0.3029.110 Safari/537.3'}\n",
    "\n",
    "path=r\"C:\\Users\\berid\\python\\yts mx project\""
   ]
  },
  {
   "cell_type": "code",
   "execution_count": 2,
   "metadata": {},
   "outputs": [],
   "source": [
    "def return_movie_dict(movie_url):\n",
    "    \n",
    "    html=requests.get(movie_url,headers=headers).content\n",
    "    soup=BeautifulSoup(html)\n",
    "\n",
    "    try:\n",
    "        title=soup.select_one('div[id=\"movie-info\"] h1').text\n",
    "    except:\n",
    "        title=None\n",
    "\n",
    "    try:\n",
    "        poster=soup.select_one('div[id=\"movie-poster\"] img')['src']\n",
    "    except:\n",
    "        poster=None\n",
    "\n",
    "    try:\n",
    "        year=soup.select('div[id=\"movie-info\"] h2')[0].text\n",
    "    except:\n",
    "        year=None\n",
    "\n",
    "    try:\n",
    "        genres=soup.select('div[id=\"movie-info\"] h2')[1].text\n",
    "    except:\n",
    "        genres=None\n",
    "\n",
    "    try:\n",
    "        imdb=soup.select('div[class=\"bottom-info\"] div[class=\"rating-row\"]')[-1].text\n",
    "    except:\n",
    "        imdb=None\n",
    "\n",
    "    try:\n",
    "        imdb_link=soup.select('div[class=\"bottom-info\"] div[class=\"rating-row\"]')[-1].a['href']\n",
    "    except:\n",
    "        imdb_link=None\n",
    "\n",
    "    try:\n",
    "        director=soup.select_one('div[class=\"directors\"] span[itemprop=\"name\"]').text\n",
    "    except:\n",
    "        director=None\n",
    "\n",
    "    try:\n",
    "        cast=[i.text for i in soup.select('div[class=\"actors\"] div[class=\"list-cast\"] a[class=\"name-cast\"]')]\n",
    "    except:\n",
    "        cast=None\n",
    "\n",
    "    try:\n",
    "        plot=soup.select_one('div[id=\"synopsis\"]').text\n",
    "    except:\n",
    "        plot=None\n",
    "\n",
    "    try:\n",
    "        tags=soup.select_one('div[class=\"row\"] span[style=\"font-size:85%; color: #BCB8BC;\"]').text\n",
    "    except:\n",
    "        tags=None\n",
    "\n",
    "    movie_dict={'Movie URL':movie_url,'Title':title,'Poster':poster,'Year':year,'Genres':genres,'IMDB':imdb,'IMDB Link':imdb_link,'Director':director,'Cast':cast,'Plot':plot,'Tags':tags}\n",
    "\n",
    "    return movie_dict"
   ]
  },
  {
   "cell_type": "code",
   "execution_count": 3,
   "metadata": {},
   "outputs": [
    {
     "name": "stdout",
     "output_type": "stream",
     "text": [
      "URLs Total: 63545\n"
     ]
    }
   ],
   "source": [
    "all_movie_urls=pickle.load(open(os.path.join(path,'scraped_data','all_yts_urls.pickle'),'rb'))\n",
    "\n",
    "all_movie_urls=list(set(all_movie_urls))\n",
    "\n",
    "print(f'URLs Total: {len(all_movie_urls)}')"
   ]
  },
  {
   "cell_type": "code",
   "execution_count": 4,
   "metadata": {},
   "outputs": [],
   "source": [
    "import sqlite3\n",
    "\n",
    "conn=sqlite3.connect(os.path.join(path,'scraped_data','yts.db'))\n",
    "cursor=conn.cursor()"
   ]
  },
  {
   "cell_type": "code",
   "execution_count": 5,
   "metadata": {},
   "outputs": [],
   "source": [
    "cursor.execute(\"\"\"\n",
    "CREATE TABLE IF NOT EXISTS movie_details (\n",
    "    MOVIE_URL TEXT,\n",
    "    TITLE TEXT,\n",
    "    POSTER TEXT,\n",
    "    YEAR TEXT,\n",
    "    GENRES TEXT,\n",
    "    IMDB TEXT,\n",
    "    IMDB_LINK TEXT,\n",
    "    DIRECTOR TEXT,\n",
    "    CAST TEXT,\n",
    "    PLOT TEXT,\n",
    "    TAGS TEXT\n",
    ")\n",
    "\"\"\")\n",
    "\n",
    "conn.commit()"
   ]
  },
  {
   "cell_type": "code",
   "execution_count": 6,
   "metadata": {},
   "outputs": [
    {
     "name": "stdout",
     "output_type": "stream",
     "text": [
      "URLs scraped: 51475\n"
     ]
    }
   ],
   "source": [
    "cursor.execute(\"SELECT DISTINCT MOVIE_URL FROM movie_details\")\n",
    "scraped_urls = [row[0] for row in cursor.fetchall()]\n",
    "\n",
    "print(f'URLs scraped: {len(scraped_urls)}')"
   ]
  },
  {
   "cell_type": "code",
   "execution_count": 7,
   "metadata": {},
   "outputs": [
    {
     "name": "stdout",
     "output_type": "stream",
     "text": [
      "URLs to scrape: 12070\n"
     ]
    }
   ],
   "source": [
    "urls_to_scrape=[url for url in all_movie_urls if url not in scraped_urls]\n",
    "print(f'URLs to scrape: {len(urls_to_scrape)}')"
   ]
  },
  {
   "cell_type": "code",
   "execution_count": 8,
   "metadata": {},
   "outputs": [
    {
     "name": "stdout",
     "output_type": "stream",
     "text": [
      "Progress: 12070/12070\r"
     ]
    }
   ],
   "source": [
    "for i,movie_url in enumerate(urls_to_scrape,start=1):\n",
    "    \n",
    "    try:\n",
    "        movie_dict=return_movie_dict(movie_url)\n",
    "    except:\n",
    "        continue\n",
    "\n",
    "    values=[str(v) for k,v in movie_dict.items()]\n",
    "\n",
    "    cursor.execute('INSERT INTO movie_details (MOVIE_URL, TITLE, POSTER, YEAR, GENRES, IMDB, IMDB_LINK, DIRECTOR, CAST, PLOT, TAGS) VALUES (?, ?, ?, ?, ?, ?, ?, ?, ?, ?, ?)', values)\n",
    "    conn.commit()\n",
    "\n",
    "    print(f'Progress: {i}/{len(urls_to_scrape)}',end='\\r')\n"
   ]
  },
  {
   "cell_type": "code",
   "execution_count": null,
   "metadata": {},
   "outputs": [],
   "source": []
  }
 ],
 "metadata": {
  "kernelspec": {
   "display_name": "Python 3",
   "language": "python",
   "name": "python3"
  },
  "language_info": {
   "codemirror_mode": {
    "name": "ipython",
    "version": 3
   },
   "file_extension": ".py",
   "mimetype": "text/x-python",
   "name": "python",
   "nbconvert_exporter": "python",
   "pygments_lexer": "ipython3",
   "version": "3.12.7"
  }
 },
 "nbformat": 4,
 "nbformat_minor": 2
}
