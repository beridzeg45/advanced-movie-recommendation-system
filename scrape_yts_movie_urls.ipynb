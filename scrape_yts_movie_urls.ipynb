{
 "cells": [
  {
   "cell_type": "code",
   "execution_count": 1,
   "metadata": {},
   "outputs": [],
   "source": [
    "import requests\n",
    "from bs4 import BeautifulSoup\n",
    "import os\n",
    "import pickle\n",
    "\n",
    "headers = {'User-Agent': 'Mozilla/5.0 (Windows NT 10.0; Win64; x64) AppleWebKit/537.36 (KHTML, like Gecko) Chrome/58.0.3029.110 Safari/537.3'}\n",
    "\n",
    "path=r\"C:\\Users\\berid\\python\\yts mx project\""
   ]
  },
  {
   "cell_type": "code",
   "execution_count": 2,
   "metadata": {},
   "outputs": [],
   "source": [
    "#periods = [\"2020-2024\", \"2010-2019\", \"2000-2009\", \"1990-1999\", \"1980-1989\", \"1970-1979\", \"1950-1969\", \"1900-1949\"]\n",
    "periods=['2020-2024']"
   ]
  },
  {
   "cell_type": "code",
   "execution_count": 3,
   "metadata": {},
   "outputs": [
    {
     "name": "stdout",
     "output_type": "stream",
     "text": [
      "Period: 2020-2024, Page: 792\r"
     ]
    }
   ],
   "source": [
    "all_movie_urls=[]\n",
    "\n",
    "for period in periods:\n",
    "    for page in range(1,10001):\n",
    "        if page==1:\n",
    "            url=f\"https://yts.mx/browse-movies/0/all/all/0/latest/{period}/all\"\n",
    "        else:\n",
    "            url=f\"https://yts.mx/browse-movies/0/all/all/0/latest/{period}/all?page={page}\"\n",
    "        html=requests.get(url,headers=headers).content\n",
    "        soup=BeautifulSoup(html)\n",
    "\n",
    "        url_elements=soup.select('div[class=\"row\"] a[class=\"browse-movie-link\"]')\n",
    "        if len(url_elements)==0:\n",
    "            break\n",
    "        for url_element in url_elements:\n",
    "            try:\n",
    "                url=url_element['href']\n",
    "                all_movie_urls.append(url)\n",
    "            except:\n",
    "                None\n",
    "        \n",
    "        print(f'Period: {period}, Page: {page}',end='\\r')\n",
    "            "
   ]
  },
  {
   "cell_type": "code",
   "execution_count": 5,
   "metadata": {},
   "outputs": [
    {
     "name": "stdout",
     "output_type": "stream",
     "text": [
      "URLs added: 12043\n"
     ]
    }
   ],
   "source": [
    "all_yts_urls=pickle.load(open(os.path.join(path,'scraped_data','all_yts_urls.pickle'),'rb'))\n",
    "len_1=len(all_yts_urls)\n",
    "\n",
    "all_yts_urls.extend(all_movie_urls)\n",
    "all_yts_urls=list(set(all_yts_urls))\n",
    "len_2=len(all_yts_urls)\n",
    "\n",
    "print(f'URLs added: {len_2-len_1}')"
   ]
  },
  {
   "cell_type": "code",
   "execution_count": 6,
   "metadata": {},
   "outputs": [],
   "source": [
    "pickle.dump(all_yts_urls,open(os.path.join(path,'scraped_data','all_yts_urls.pickle'),'wb'))"
   ]
  },
  {
   "cell_type": "code",
   "execution_count": null,
   "metadata": {},
   "outputs": [],
   "source": []
  }
 ],
 "metadata": {
  "kernelspec": {
   "display_name": "Python 3",
   "language": "python",
   "name": "python3"
  },
  "language_info": {
   "codemirror_mode": {
    "name": "ipython",
    "version": 3
   },
   "file_extension": ".py",
   "mimetype": "text/x-python",
   "name": "python",
   "nbconvert_exporter": "python",
   "pygments_lexer": "ipython3",
   "version": "3.12.7"
  }
 },
 "nbformat": 4,
 "nbformat_minor": 2
}
