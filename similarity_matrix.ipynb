{
 "cells": [
  {
   "cell_type": "code",
   "execution_count": 11,
   "metadata": {},
   "outputs": [],
   "source": [
    "import pandas as pd\n",
    "pd.options.display.max_columns=100\n",
    "import kaggle\n",
    "import pickle\n",
    "\n",
    "import os\n",
    "path=r\"C:\\Users\\berid\\python\\yts mx project\""
   ]
  },
  {
   "cell_type": "code",
   "execution_count": 12,
   "metadata": {},
   "outputs": [],
   "source": [
    "yts_df=pd.read_csv(os.path.join(path,'scraped_data','cleaned_yts_movies_df.csv'))\n",
    "letterboxd_df=pd.read_csv(os.path.join(path,'scraped_data','cleaned_letterboxd_movies_df.csv'))"
   ]
  },
  {
   "cell_type": "markdown",
   "metadata": {},
   "source": [
    "##### merging dataframes"
   ]
  },
  {
   "cell_type": "code",
   "execution_count": 13,
   "metadata": {},
   "outputs": [],
   "source": [
    "df=yts_df.merge(letterboxd_df,how='left',on='IMDB_LINK')"
   ]
  },
  {
   "cell_type": "code",
   "execution_count": 14,
   "metadata": {},
   "outputs": [],
   "source": [
    "df['GENRES_x']=df['GENRES_x']+'|'\n",
    "df['DIRECTOR_x']=df['DIRECTOR_x']+'|'\n",
    "df['BIGRAMS_TAGS_x']=df['BIGRAMS_TAGS_x']+'|'\n",
    "df['DIRECTOR_y']=df['DIRECTOR_y']+'|'\n",
    "df['BIGRAMS_TAGS_y']=df['BIGRAMS_TAGS_y']+'|'"
   ]
  },
  {
   "cell_type": "markdown",
   "metadata": {},
   "source": [
    "##### applying weights"
   ]
  },
  {
   "cell_type": "code",
   "execution_count": 15,
   "metadata": {},
   "outputs": [],
   "source": [
    "# Define weights\n",
    "weights = {\n",
    "    'GENRES_x': 12,\n",
    "    'DIRECTOR_x': 5,\n",
    "    'TAGS_x': 3,\n",
    "    'BIGRAMS_TAGS_x': 1,\n",
    "    'GENRES_y': 1,\n",
    "    'DIRECTOR_y': 5,\n",
    "    'TAGS_y': 10,\n",
    "    'BIGRAMS_TAGS_y': 1\n",
    "}\n",
    "\n",
    "df['ALL_TAGS'] = df.apply(\n",
    "    lambda row: ''.join(\n",
    "        str(row[col]) * weight for col, weight in weights.items()\n",
    "        if pd.notnull(row[col])\n",
    "    ),\n",
    "    axis=1\n",
    ")\n",
    "\n",
    "df['ALL_TAGS'] = df['ALL_TAGS'].str.replace('None', '').str.replace('nan', '').str.replace('Show All…', '|').str.replace('||', '|')\n"
   ]
  },
  {
   "cell_type": "code",
   "execution_count": 16,
   "metadata": {},
   "outputs": [],
   "source": [
    "df=df[['IMDB_LINK','POSTER','TITLE_x','YEAR_x','GENRES_x','DIRECTOR_x','IMDB_RATING','IMDB_RATING_COUNT','ALL_TAGS']]\n",
    "df.columns=df.columns.str.replace('_x','')"
   ]
  },
  {
   "cell_type": "code",
   "execution_count": 17,
   "metadata": {},
   "outputs": [],
   "source": [
    "df.to_csv(os.path.join(path,'scraped_data','merged_df.csv'),index=False)"
   ]
  },
  {
   "cell_type": "markdown",
   "metadata": {},
   "source": [
    "##### create similarity matrix"
   ]
  },
  {
   "cell_type": "code",
   "execution_count": 18,
   "metadata": {},
   "outputs": [
    {
     "name": "stderr",
     "output_type": "stream",
     "text": [
      "C:\\Users\\berid\\AppData\\Local\\Packages\\PythonSoftwareFoundation.Python.3.12_qbz5n2kfra8p0\\LocalCache\\local-packages\\Python312\\site-packages\\sklearn\\feature_extraction\\text.py:523: UserWarning: The parameter 'token_pattern' will not be used since 'tokenizer' is not None'\n",
      "  warnings.warn(\n"
     ]
    }
   ],
   "source": [
    "from sklearn.feature_extraction.text import TfidfVectorizer\n",
    "from sklearn.metrics.pairwise import cosine_similarity\n",
    "\n",
    "vectorizer = TfidfVectorizer(tokenizer=lambda x: x.split('|'), stop_words='english')\n",
    "tfidf_matrix = vectorizer.fit_transform(df['ALL_TAGS'])\n",
    "\n",
    "similarity_matrix = cosine_similarity(tfidf_matrix, tfidf_matrix)"
   ]
  },
  {
   "cell_type": "code",
   "execution_count": 19,
   "metadata": {},
   "outputs": [],
   "source": [
    "import numpy as np\n",
    "import pickle\n",
    "\n",
    "num_parts = 20\n",
    "array_parts = np.array_split(similarity_matrix, num_parts)\n",
    "\n",
    "for i, part in enumerate(array_parts):\n",
    "    with open(os.path.join(path,'scraped_data','similarities_matrix',f'array_part_{i}.pkl'), \"wb\") as f:\n",
    "        pickle.dump(part, f)"
   ]
  },
  {
   "cell_type": "code",
   "execution_count": 20,
   "metadata": {},
   "outputs": [
    {
     "data": {
      "text/plain": [
       "0       Action|Crime|Drama|Action|Crime|Drama|Action|C...\n",
       "1       Action|Adventure|Crime|Drama|Thriller|Action|A...\n",
       "2       Action|Adventure|Crime|Mystery|Sci-Fi|Thriller...\n",
       "3       Action|Drama|Action|Drama|Action|Drama|Action|...\n",
       "4       Action|Comedy|Drama|Romance|Action|Comedy|Dram...\n",
       "                              ...                        \n",
       "7446    Action|Crime|Drama|Horror|Mystery|Thriller|Act...\n",
       "7447    Action|Drama|Musical|Romance|Action|Drama|Musi...\n",
       "7448    Action|Crime|Drama|Music|Action|Crime|Drama|Mu...\n",
       "7449    Comedy|Drama|Family|Sport|Comedy|Drama|Family|...\n",
       "7450    Action|Comedy|Drama|Romance|Action|Comedy|Dram...\n",
       "Name: ALL_TAGS, Length: 7451, dtype: object"
      ]
     },
     "execution_count": 20,
     "metadata": {},
     "output_type": "execute_result"
    }
   ],
   "source": [
    "df['ALL_TAGS']"
   ]
  }
 ],
 "metadata": {
  "kernelspec": {
   "display_name": "Python 3",
   "language": "python",
   "name": "python3"
  },
  "language_info": {
   "codemirror_mode": {
    "name": "ipython",
    "version": 3
   },
   "file_extension": ".py",
   "mimetype": "text/x-python",
   "name": "python",
   "nbconvert_exporter": "python",
   "pygments_lexer": "ipython3",
   "version": "3.12.7"
  }
 },
 "nbformat": 4,
 "nbformat_minor": 2
}
