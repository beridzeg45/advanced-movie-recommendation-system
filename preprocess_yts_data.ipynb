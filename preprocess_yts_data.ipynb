{
 "cells": [
  {
   "cell_type": "code",
   "execution_count": 1,
   "metadata": {},
   "outputs": [],
   "source": [
    "import pandas as pd\n",
    "import sqlite3\n",
    "import os\n",
    "import pickle\n",
    "\n",
    "path=r\"C:\\Users\\berid\\python\\yts mx project\""
   ]
  },
  {
   "cell_type": "code",
   "execution_count": 2,
   "metadata": {},
   "outputs": [],
   "source": [
    "conn=sqlite3.connect(os.path.join(path,'scraped_data','yts.db'))"
   ]
  },
  {
   "cell_type": "code",
   "execution_count": 3,
   "metadata": {},
   "outputs": [],
   "source": [
    "df=pd.read_sql_query(\"SELECT * FROM movie_details\",conn)"
   ]
  },
  {
   "cell_type": "code",
   "execution_count": 4,
   "metadata": {},
   "outputs": [],
   "source": [
    "df=df.replace('None',None)"
   ]
  },
  {
   "cell_type": "code",
   "execution_count": 5,
   "metadata": {},
   "outputs": [],
   "source": [
    "year=df['YEAR'].apply(lambda x:x.split(' ')[0] if isinstance(x,str) else None)\n",
    "language=df['YEAR'].apply(lambda x:x.split('[')[-1] .split(']')[0] if isinstance(x,str) and '[' in str(x) else 'ENGLISH')\n",
    "\n",
    "df['YEAR']=year\n",
    "df.insert(df.columns.get_loc('YEAR')+1,'LANGUAGE',language)\n"
   ]
  },
  {
   "cell_type": "code",
   "execution_count": 6,
   "metadata": {},
   "outputs": [],
   "source": [
    "df['GENRES']=df['GENRES'].apply(lambda x:'|'.join([i.strip() for i in x.split('/')]) if isinstance(x,str) else None)"
   ]
  },
  {
   "cell_type": "code",
   "execution_count": 7,
   "metadata": {},
   "outputs": [],
   "source": [
    "rating=df['IMDB'].apply(lambda x:x.split('/10')[0].replace('\\n','').strip() if isinstance(x,str) else None).apply(pd.to_numeric)\n",
    "\n",
    "rating_count=df['IMDB'].apply(lambda x:x.split('·')[-1].replace('\\n','') if isinstance(x,str) else None)\n",
    "rating_count=rating_count.apply(lambda x:\n",
    "                   float(x.split('K')[0].strip()) * 1000 if isinstance(x, str) and 'K' in str(x) else\n",
    "                   float(x.strip()) if isinstance(x, str) and x.strip().isdigit() else None\n",
    "                   ).apply(pd.to_numeric, errors='coerce')\n",
    "\n",
    "\n",
    "df.insert(df.columns.get_loc('IMDB')+1,'IMDB_RATING',rating)\n",
    "df.insert(df.columns.get_loc('IMDB')+2,'IMDB_RATING_COUNT',rating_count)\n",
    "\n",
    "df=df.drop(columns='IMDB')"
   ]
  },
  {
   "cell_type": "code",
   "execution_count": 8,
   "metadata": {},
   "outputs": [],
   "source": [
    "df['CAST']=df['CAST'].apply(lambda x:None if x=='[]' else x)"
   ]
  },
  {
   "cell_type": "code",
   "execution_count": 9,
   "metadata": {},
   "outputs": [],
   "source": [
    "df['PLOT']=df['PLOT'].apply(lambda x: x.split('\\nPlot summary\\n')[-1].split('\\n\\n Uploaded by')[0] if isinstance(x,str) else None)"
   ]
  },
  {
   "cell_type": "code",
   "execution_count": 10,
   "metadata": {},
   "outputs": [],
   "source": [
    "df['TAGS']=df['TAGS'].apply(lambda x:'|'.join([i.strip() for i in x.split('\\n')]) if isinstance(x,str) else None)"
   ]
  },
  {
   "cell_type": "code",
   "execution_count": 11,
   "metadata": {},
   "outputs": [],
   "source": [
    "df=df[df['IMDB_RATING_COUNT']>=20000]\n",
    "\n",
    "df=df.reset_index(drop=True)"
   ]
  },
  {
   "cell_type": "code",
   "execution_count": 12,
   "metadata": {},
   "outputs": [],
   "source": [
    "#additional filtering and sorting\n",
    "df=df[df['GENRES'].str.contains('Documentary',case=False)==False]\n",
    "df=df.sort_values('IMDB_RATING_COUNT',ascending=False)\n",
    "df=df.reset_index(drop=True)"
   ]
  },
  {
   "cell_type": "markdown",
   "metadata": {},
   "source": [
    "### create tags from plot"
   ]
  },
  {
   "cell_type": "code",
   "execution_count": 13,
   "metadata": {},
   "outputs": [],
   "source": [
    "import nltk\n",
    "from nltk.util import ngrams\n",
    "from collections import Counter\n",
    "import contractions\n",
    "\n",
    "from nltk.sentiment import SentimentIntensityAnalyzer\n",
    "sia=SentimentIntensityAnalyzer()\n",
    "\n",
    "from nltk.stem import WordNetLemmatizer\n",
    "lemmatizer=WordNetLemmatizer()\n",
    "\n",
    "from nltk.corpus import stopwords\n",
    "stopwords=stopwords.words('english')\n",
    "stopwords_extended = stopwords+['a', 'the', 'but', 'and', 's', '.', ',', \"'s\", 'i', 'in', 'to',':',';',\"'\",'(',')','–']\n"
   ]
  },
  {
   "cell_type": "code",
   "execution_count": 14,
   "metadata": {},
   "outputs": [],
   "source": [
    "def get_bigrams(text):\n",
    "    text = contractions.fix(text)\n",
    "    plot_tokenized = nltk.word_tokenize(text)\n",
    "    tokens_lowered = [t.lower().strip() for t in plot_tokenized]\n",
    "    removed_stopwords = [t for t in tokens_lowered if t not in stopwords_extended]\n",
    "    return list(ngrams(removed_stopwords, 2))\n",
    "\n",
    "# Extract bigrams for all plots and count them\n",
    "all_bigrams = []\n",
    "df['PLOT'].apply(lambda plot: all_bigrams.extend(get_bigrams(plot)))\n",
    "df['BIGRAMS']=df['PLOT'].apply(lambda plot:get_bigrams(plot))\n",
    "\n",
    "# Count the most common bigrams\n",
    "bigram_counts = Counter(all_bigrams)\n",
    "most_common_bigrams = bigram_counts.most_common(10000)\n",
    "most_common_bigrams=[i[0] for i in most_common_bigrams]"
   ]
  },
  {
   "cell_type": "code",
   "execution_count": 15,
   "metadata": {},
   "outputs": [
    {
     "name": "stdout",
     "output_type": "stream",
     "text": [
      "7451/7451\r"
     ]
    }
   ],
   "source": [
    "bigrams_series=[]\n",
    "for i,bigrams_list in enumerate(df['BIGRAMS'],start=1):\n",
    "    new_bigrams_list=[]\n",
    "    for bigram in bigrams_list:\n",
    "        if bigram in most_common_bigrams:\n",
    "            new_bigrams_list.append(bigram)\n",
    "    bigrams_series.append(new_bigrams_list)\n",
    "    \n",
    "    print(f'{i}/{len(df['BIGRAMS'])}',end='\\r')"
   ]
  },
  {
   "cell_type": "code",
   "execution_count": 16,
   "metadata": {},
   "outputs": [],
   "source": [
    "df['BIGRAMS']=bigrams_series"
   ]
  },
  {
   "cell_type": "code",
   "execution_count": 17,
   "metadata": {},
   "outputs": [],
   "source": [
    "bigram_texts_series=[]\n",
    "\n",
    "for i,bigrams_list in enumerate(df['BIGRAMS'],start=1):\n",
    "    bigram_texts_list=[]\n",
    "    for bigram in bigrams_list:\n",
    "        bigram_text=' '.join([w for w in bigram])\n",
    "        bigram_texts_list.append(bigram_text)\n",
    "    \n",
    "    bigram_texts_list='|'.join(i for i in bigram_texts_list)\n",
    "    bigram_texts_series.append(bigram_texts_list)\n",
    "\n",
    "df['BIGRAMS_TAGS']=bigram_texts_series\n",
    "df=df.drop(columns='BIGRAMS')"
   ]
  },
  {
   "cell_type": "code",
   "execution_count": 18,
   "metadata": {},
   "outputs": [],
   "source": [
    "#save preprocessed df\n",
    "df.to_csv(os.path.join(path,'scraped_data','cleaned_yts_movies_df.csv'),index=False)"
   ]
  },
  {
   "cell_type": "code",
   "execution_count": null,
   "metadata": {},
   "outputs": [],
   "source": []
  }
 ],
 "metadata": {
  "kernelspec": {
   "display_name": "Python 3",
   "language": "python",
   "name": "python3"
  },
  "language_info": {
   "codemirror_mode": {
    "name": "ipython",
    "version": 3
   },
   "file_extension": ".py",
   "mimetype": "text/x-python",
   "name": "python",
   "nbconvert_exporter": "python",
   "pygments_lexer": "ipython3",
   "version": "3.12.7"
  }
 },
 "nbformat": 4,
 "nbformat_minor": 2
}
